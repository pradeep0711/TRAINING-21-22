{
 "cells": [
  {
   "cell_type": "code",
   "execution_count": 1,
   "metadata": {},
   "outputs": [
    {
     "name": "stdout",
     "output_type": "stream",
     "text": [
      "Hello\n"
     ]
    }
   ],
   "source": [
    "print(\"Hello\")"
   ]
  },
  {
   "cell_type": "code",
   "execution_count": null,
   "metadata": {},
   "outputs": [],
   "source": []
  },
  {
   "cell_type": "code",
   "execution_count": 8,
   "metadata": {},
   "outputs": [],
   "source": [
    "import pandas as pd\n",
    "import random\n",
    "from faker import Faker\n",
    "\n",
    "# Initialize Faker for random data generation\n",
    "fake = Faker()\n",
    "\n",
    "# Helper function to generate random data\n",
    "def generate_data():\n",
    "    product_id = random.randint(1000, 9999)\n",
    "    product_name = fake.word().capitalize()\n",
    "    category = random.choice([\"Electronics\", \"Clothing\", \"Grocery\", \"Home\", \"Toys\", \"Books\"])\n",
    "    supplier_id = random.randint(100, 200)\n",
    "    supplier_name = fake.company()\n",
    "    purchase_date = fake.date_this_decade()\n",
    "    purchase_price = round(random.uniform(5.0, 50.0), 2)\n",
    "    retail_price = round(purchase_price * random.uniform(1.5, 3.0), 2)\n",
    "    stock_level = random.randint(0, 500)\n",
    "    reorder_point = random.randint(10, 100)\n",
    "    lead_time = random.randint(3, 15)\n",
    "    sales_volume = random.randint(0, 100)\n",
    "    sales_date = fake.date_this_year()\n",
    "    sales_channel = random.choice([\"Online\", \"In-store\", \"Wholesale\"])\n",
    "    demand_forecast = random.randint(50, 200)\n",
    "    stockouts = random.randint(0, 5)\n",
    "    backorders = random.randint(0, 10)\n",
    "    warehouse_location = random.choice([\"WH1\", \"WH2\", \"WH3\"])\n",
    "    expiration_date = None if category != \"Grocery\" else fake.date_this_decade()\n",
    "    discounts_applied = random.randint(0, 30)\n",
    "    inventory_aging = random.randint(1, 90)\n",
    "    return_rate = round(random.uniform(0.0, 5.0), 2)\n",
    "    \n",
    "    return {\n",
    "        \"Product ID\": product_id,\n",
    "        \"Product Name\": product_name,\n",
    "        \"Category\": category,\n",
    "        \"Supplier ID\": supplier_id,\n",
    "        \"Supplier Name\": supplier_name,\n",
    "        \"Purchase Date\": purchase_date,\n",
    "        \"Purchase Price\": purchase_price,\n",
    "        \"Retail Price\": retail_price,\n",
    "        \"Stock Level\": stock_level,\n",
    "        \"Reorder Point\": reorder_point,\n",
    "        \"Lead Time (Days)\": lead_time,\n",
    "        \"Sales Volume\": sales_volume,\n",
    "        \"Sales Date\": sales_date,\n",
    "        \"Sales Channel\": sales_channel,\n",
    "        \"Demand Forecast\": demand_forecast,\n",
    "        \"Stockouts\": stockouts,\n",
    "        \"Backorders\": backorders,\n",
    "        \"Warehouse Location\": warehouse_location,\n",
    "        \"Expiration Date\": expiration_date,\n",
    "        \"Discounts Applied\": discounts_applied,\n",
    "        \"Inventory Aging\": inventory_aging,\n",
    "        \"Return Rate\": return_rate\n",
    "    }\n",
    "\n",
    "# Generate the dataset with 5,000 rows\n",
    "data = [generate_data() for _ in range(5000)]\n",
    "\n",
    "# Create DataFrame\n",
    "df = pd.DataFrame(data)\n",
    "\n",
    "# Save the data to a CSV file\n",
    "df.to_csv('inventory_management_data_5000_rows.csv', index=False)\n"
   ]
  },
  {
   "cell_type": "code",
   "execution_count": 9,
   "metadata": {},
   "outputs": [],
   "source": [
    "import pandas as pd\n",
    "df = pd.read_csv('inventory_management_data_5000_rows.csv')"
   ]
  },
  {
   "cell_type": "code",
   "execution_count": 10,
   "metadata": {},
   "outputs": [
    {
     "data": {
      "text/html": [
       "<div>\n",
       "<style scoped>\n",
       "    .dataframe tbody tr th:only-of-type {\n",
       "        vertical-align: middle;\n",
       "    }\n",
       "\n",
       "    .dataframe tbody tr th {\n",
       "        vertical-align: top;\n",
       "    }\n",
       "\n",
       "    .dataframe thead th {\n",
       "        text-align: right;\n",
       "    }\n",
       "</style>\n",
       "<table border=\"1\" class=\"dataframe\">\n",
       "  <thead>\n",
       "    <tr style=\"text-align: right;\">\n",
       "      <th></th>\n",
       "      <th>Product ID</th>\n",
       "      <th>Product Name</th>\n",
       "      <th>Category</th>\n",
       "      <th>Supplier ID</th>\n",
       "      <th>Supplier Name</th>\n",
       "      <th>Purchase Date</th>\n",
       "      <th>Purchase Price</th>\n",
       "      <th>Retail Price</th>\n",
       "      <th>Stock Level</th>\n",
       "      <th>Reorder Point</th>\n",
       "      <th>...</th>\n",
       "      <th>Sales Date</th>\n",
       "      <th>Sales Channel</th>\n",
       "      <th>Demand Forecast</th>\n",
       "      <th>Stockouts</th>\n",
       "      <th>Backorders</th>\n",
       "      <th>Warehouse Location</th>\n",
       "      <th>Expiration Date</th>\n",
       "      <th>Discounts Applied</th>\n",
       "      <th>Inventory Aging</th>\n",
       "      <th>Return Rate</th>\n",
       "    </tr>\n",
       "  </thead>\n",
       "  <tbody>\n",
       "    <tr>\n",
       "      <th>0</th>\n",
       "      <td>1009</td>\n",
       "      <td>Approach</td>\n",
       "      <td>Books</td>\n",
       "      <td>157</td>\n",
       "      <td>Ruiz-Ortega</td>\n",
       "      <td>2024-02-03</td>\n",
       "      <td>24.40</td>\n",
       "      <td>37.33</td>\n",
       "      <td>247</td>\n",
       "      <td>59</td>\n",
       "      <td>...</td>\n",
       "      <td>2025-02-21</td>\n",
       "      <td>Online</td>\n",
       "      <td>96</td>\n",
       "      <td>0</td>\n",
       "      <td>10</td>\n",
       "      <td>WH2</td>\n",
       "      <td>NaN</td>\n",
       "      <td>15</td>\n",
       "      <td>25</td>\n",
       "      <td>3.08</td>\n",
       "    </tr>\n",
       "    <tr>\n",
       "      <th>1</th>\n",
       "      <td>8610</td>\n",
       "      <td>Again</td>\n",
       "      <td>Toys</td>\n",
       "      <td>123</td>\n",
       "      <td>Solis Ltd</td>\n",
       "      <td>2020-04-24</td>\n",
       "      <td>48.20</td>\n",
       "      <td>117.78</td>\n",
       "      <td>178</td>\n",
       "      <td>10</td>\n",
       "      <td>...</td>\n",
       "      <td>2025-01-13</td>\n",
       "      <td>Online</td>\n",
       "      <td>133</td>\n",
       "      <td>3</td>\n",
       "      <td>4</td>\n",
       "      <td>WH2</td>\n",
       "      <td>NaN</td>\n",
       "      <td>11</td>\n",
       "      <td>83</td>\n",
       "      <td>4.54</td>\n",
       "    </tr>\n",
       "    <tr>\n",
       "      <th>2</th>\n",
       "      <td>2343</td>\n",
       "      <td>Prevent</td>\n",
       "      <td>Toys</td>\n",
       "      <td>175</td>\n",
       "      <td>Austin, Russell and Richards</td>\n",
       "      <td>2022-10-13</td>\n",
       "      <td>33.87</td>\n",
       "      <td>74.21</td>\n",
       "      <td>156</td>\n",
       "      <td>61</td>\n",
       "      <td>...</td>\n",
       "      <td>2025-01-15</td>\n",
       "      <td>Online</td>\n",
       "      <td>106</td>\n",
       "      <td>0</td>\n",
       "      <td>4</td>\n",
       "      <td>WH2</td>\n",
       "      <td>NaN</td>\n",
       "      <td>28</td>\n",
       "      <td>24</td>\n",
       "      <td>4.74</td>\n",
       "    </tr>\n",
       "    <tr>\n",
       "      <th>3</th>\n",
       "      <td>4015</td>\n",
       "      <td>Company</td>\n",
       "      <td>Toys</td>\n",
       "      <td>121</td>\n",
       "      <td>Richardson-Obrien</td>\n",
       "      <td>2021-07-04</td>\n",
       "      <td>14.28</td>\n",
       "      <td>35.70</td>\n",
       "      <td>321</td>\n",
       "      <td>86</td>\n",
       "      <td>...</td>\n",
       "      <td>2025-02-21</td>\n",
       "      <td>Wholesale</td>\n",
       "      <td>131</td>\n",
       "      <td>5</td>\n",
       "      <td>9</td>\n",
       "      <td>WH2</td>\n",
       "      <td>NaN</td>\n",
       "      <td>18</td>\n",
       "      <td>73</td>\n",
       "      <td>1.32</td>\n",
       "    </tr>\n",
       "    <tr>\n",
       "      <th>4</th>\n",
       "      <td>1514</td>\n",
       "      <td>Prepare</td>\n",
       "      <td>Home</td>\n",
       "      <td>125</td>\n",
       "      <td>Lawrence Inc</td>\n",
       "      <td>2020-09-23</td>\n",
       "      <td>9.22</td>\n",
       "      <td>14.79</td>\n",
       "      <td>430</td>\n",
       "      <td>70</td>\n",
       "      <td>...</td>\n",
       "      <td>2025-01-27</td>\n",
       "      <td>Wholesale</td>\n",
       "      <td>127</td>\n",
       "      <td>0</td>\n",
       "      <td>1</td>\n",
       "      <td>WH1</td>\n",
       "      <td>NaN</td>\n",
       "      <td>9</td>\n",
       "      <td>15</td>\n",
       "      <td>1.91</td>\n",
       "    </tr>\n",
       "  </tbody>\n",
       "</table>\n",
       "<p>5 rows × 22 columns</p>\n",
       "</div>"
      ],
      "text/plain": [
       "   Product ID Product Name Category  Supplier ID  \\\n",
       "0        1009     Approach    Books          157   \n",
       "1        8610        Again     Toys          123   \n",
       "2        2343      Prevent     Toys          175   \n",
       "3        4015      Company     Toys          121   \n",
       "4        1514      Prepare     Home          125   \n",
       "\n",
       "                  Supplier Name Purchase Date  Purchase Price  Retail Price  \\\n",
       "0                   Ruiz-Ortega    2024-02-03           24.40         37.33   \n",
       "1                     Solis Ltd    2020-04-24           48.20        117.78   \n",
       "2  Austin, Russell and Richards    2022-10-13           33.87         74.21   \n",
       "3             Richardson-Obrien    2021-07-04           14.28         35.70   \n",
       "4                  Lawrence Inc    2020-09-23            9.22         14.79   \n",
       "\n",
       "   Stock Level  Reorder Point  ...  Sales Date  Sales Channel Demand Forecast  \\\n",
       "0          247             59  ...  2025-02-21         Online              96   \n",
       "1          178             10  ...  2025-01-13         Online             133   \n",
       "2          156             61  ...  2025-01-15         Online             106   \n",
       "3          321             86  ...  2025-02-21      Wholesale             131   \n",
       "4          430             70  ...  2025-01-27      Wholesale             127   \n",
       "\n",
       "  Stockouts  Backorders  Warehouse Location  Expiration Date  \\\n",
       "0         0          10                 WH2              NaN   \n",
       "1         3           4                 WH2              NaN   \n",
       "2         0           4                 WH2              NaN   \n",
       "3         5           9                 WH2              NaN   \n",
       "4         0           1                 WH1              NaN   \n",
       "\n",
       "  Discounts Applied Inventory Aging  Return Rate  \n",
       "0                15              25         3.08  \n",
       "1                11              83         4.54  \n",
       "2                28              24         4.74  \n",
       "3                18              73         1.32  \n",
       "4                 9              15         1.91  \n",
       "\n",
       "[5 rows x 22 columns]"
      ]
     },
     "execution_count": 10,
     "metadata": {},
     "output_type": "execute_result"
    }
   ],
   "source": [
    "df.head()"
   ]
  },
  {
   "cell_type": "code",
   "execution_count": 11,
   "metadata": {},
   "outputs": [
    {
     "data": {
      "text/plain": [
       "Product ID               0\n",
       "Product Name             6\n",
       "Category                 0\n",
       "Supplier ID              0\n",
       "Supplier Name            0\n",
       "Purchase Date            0\n",
       "Purchase Price           0\n",
       "Retail Price             0\n",
       "Stock Level              0\n",
       "Reorder Point            0\n",
       "Lead Time (Days)         0\n",
       "Sales Volume             0\n",
       "Sales Date               0\n",
       "Sales Channel            0\n",
       "Demand Forecast          0\n",
       "Stockouts                0\n",
       "Backorders               0\n",
       "Warehouse Location       0\n",
       "Expiration Date       4127\n",
       "Discounts Applied        0\n",
       "Inventory Aging          0\n",
       "Return Rate              0\n",
       "dtype: int64"
      ]
     },
     "execution_count": 11,
     "metadata": {},
     "output_type": "execute_result"
    }
   ],
   "source": [
    "df.isna().sum()"
   ]
  },
  {
   "cell_type": "code",
   "execution_count": 12,
   "metadata": {},
   "outputs": [
    {
     "data": {
      "text/html": [
       "<div>\n",
       "<style scoped>\n",
       "    .dataframe tbody tr th:only-of-type {\n",
       "        vertical-align: middle;\n",
       "    }\n",
       "\n",
       "    .dataframe tbody tr th {\n",
       "        vertical-align: top;\n",
       "    }\n",
       "\n",
       "    .dataframe thead th {\n",
       "        text-align: right;\n",
       "    }\n",
       "</style>\n",
       "<table border=\"1\" class=\"dataframe\">\n",
       "  <thead>\n",
       "    <tr style=\"text-align: right;\">\n",
       "      <th></th>\n",
       "      <th>Product ID</th>\n",
       "      <th>Product Name</th>\n",
       "      <th>Category</th>\n",
       "      <th>Supplier ID</th>\n",
       "      <th>Supplier Name</th>\n",
       "      <th>Purchase Date</th>\n",
       "      <th>Purchase Price</th>\n",
       "      <th>Retail Price</th>\n",
       "      <th>Stock Level</th>\n",
       "      <th>Reorder Point</th>\n",
       "      <th>...</th>\n",
       "      <th>Sales Date</th>\n",
       "      <th>Sales Channel</th>\n",
       "      <th>Demand Forecast</th>\n",
       "      <th>Stockouts</th>\n",
       "      <th>Backorders</th>\n",
       "      <th>Warehouse Location</th>\n",
       "      <th>Expiration Date</th>\n",
       "      <th>Discounts Applied</th>\n",
       "      <th>Inventory Aging</th>\n",
       "      <th>Return Rate</th>\n",
       "    </tr>\n",
       "  </thead>\n",
       "  <tbody>\n",
       "    <tr>\n",
       "      <th>4995</th>\n",
       "      <td>2105</td>\n",
       "      <td>Its</td>\n",
       "      <td>Books</td>\n",
       "      <td>114</td>\n",
       "      <td>Daniels-Allen</td>\n",
       "      <td>2023-08-17</td>\n",
       "      <td>18.45</td>\n",
       "      <td>37.73</td>\n",
       "      <td>40</td>\n",
       "      <td>79</td>\n",
       "      <td>...</td>\n",
       "      <td>2025-01-02</td>\n",
       "      <td>Wholesale</td>\n",
       "      <td>87</td>\n",
       "      <td>1</td>\n",
       "      <td>5</td>\n",
       "      <td>WH1</td>\n",
       "      <td>NaN</td>\n",
       "      <td>26</td>\n",
       "      <td>16</td>\n",
       "      <td>1.60</td>\n",
       "    </tr>\n",
       "    <tr>\n",
       "      <th>4996</th>\n",
       "      <td>6354</td>\n",
       "      <td>Result</td>\n",
       "      <td>Grocery</td>\n",
       "      <td>176</td>\n",
       "      <td>Rubio LLC</td>\n",
       "      <td>2022-04-08</td>\n",
       "      <td>46.58</td>\n",
       "      <td>133.29</td>\n",
       "      <td>370</td>\n",
       "      <td>33</td>\n",
       "      <td>...</td>\n",
       "      <td>2025-02-04</td>\n",
       "      <td>Online</td>\n",
       "      <td>198</td>\n",
       "      <td>3</td>\n",
       "      <td>3</td>\n",
       "      <td>WH1</td>\n",
       "      <td>2022-06-07</td>\n",
       "      <td>13</td>\n",
       "      <td>44</td>\n",
       "      <td>2.61</td>\n",
       "    </tr>\n",
       "    <tr>\n",
       "      <th>4997</th>\n",
       "      <td>6084</td>\n",
       "      <td>Claim</td>\n",
       "      <td>Grocery</td>\n",
       "      <td>179</td>\n",
       "      <td>Larsen-Strong</td>\n",
       "      <td>2024-06-30</td>\n",
       "      <td>11.73</td>\n",
       "      <td>25.42</td>\n",
       "      <td>258</td>\n",
       "      <td>71</td>\n",
       "      <td>...</td>\n",
       "      <td>2025-02-06</td>\n",
       "      <td>Wholesale</td>\n",
       "      <td>107</td>\n",
       "      <td>0</td>\n",
       "      <td>8</td>\n",
       "      <td>WH3</td>\n",
       "      <td>2021-09-10</td>\n",
       "      <td>3</td>\n",
       "      <td>45</td>\n",
       "      <td>0.47</td>\n",
       "    </tr>\n",
       "    <tr>\n",
       "      <th>4998</th>\n",
       "      <td>4341</td>\n",
       "      <td>Network</td>\n",
       "      <td>Books</td>\n",
       "      <td>196</td>\n",
       "      <td>Johns-Mack</td>\n",
       "      <td>2020-03-19</td>\n",
       "      <td>8.10</td>\n",
       "      <td>19.92</td>\n",
       "      <td>213</td>\n",
       "      <td>22</td>\n",
       "      <td>...</td>\n",
       "      <td>2025-02-12</td>\n",
       "      <td>Wholesale</td>\n",
       "      <td>72</td>\n",
       "      <td>4</td>\n",
       "      <td>8</td>\n",
       "      <td>WH2</td>\n",
       "      <td>NaN</td>\n",
       "      <td>7</td>\n",
       "      <td>56</td>\n",
       "      <td>3.99</td>\n",
       "    </tr>\n",
       "    <tr>\n",
       "      <th>4999</th>\n",
       "      <td>1488</td>\n",
       "      <td>Card</td>\n",
       "      <td>Toys</td>\n",
       "      <td>129</td>\n",
       "      <td>Burton and Sons</td>\n",
       "      <td>2023-03-11</td>\n",
       "      <td>30.82</td>\n",
       "      <td>54.18</td>\n",
       "      <td>373</td>\n",
       "      <td>89</td>\n",
       "      <td>...</td>\n",
       "      <td>2025-01-15</td>\n",
       "      <td>In-store</td>\n",
       "      <td>194</td>\n",
       "      <td>1</td>\n",
       "      <td>6</td>\n",
       "      <td>WH2</td>\n",
       "      <td>NaN</td>\n",
       "      <td>15</td>\n",
       "      <td>70</td>\n",
       "      <td>3.01</td>\n",
       "    </tr>\n",
       "  </tbody>\n",
       "</table>\n",
       "<p>5 rows × 22 columns</p>\n",
       "</div>"
      ],
      "text/plain": [
       "      Product ID Product Name Category  Supplier ID    Supplier Name  \\\n",
       "4995        2105          Its    Books          114    Daniels-Allen   \n",
       "4996        6354       Result  Grocery          176        Rubio LLC   \n",
       "4997        6084        Claim  Grocery          179    Larsen-Strong   \n",
       "4998        4341      Network    Books          196       Johns-Mack   \n",
       "4999        1488         Card     Toys          129  Burton and Sons   \n",
       "\n",
       "     Purchase Date  Purchase Price  Retail Price  Stock Level  Reorder Point  \\\n",
       "4995    2023-08-17           18.45         37.73           40             79   \n",
       "4996    2022-04-08           46.58        133.29          370             33   \n",
       "4997    2024-06-30           11.73         25.42          258             71   \n",
       "4998    2020-03-19            8.10         19.92          213             22   \n",
       "4999    2023-03-11           30.82         54.18          373             89   \n",
       "\n",
       "      ...  Sales Date  Sales Channel Demand Forecast Stockouts  Backorders  \\\n",
       "4995  ...  2025-01-02      Wholesale              87         1           5   \n",
       "4996  ...  2025-02-04         Online             198         3           3   \n",
       "4997  ...  2025-02-06      Wholesale             107         0           8   \n",
       "4998  ...  2025-02-12      Wholesale              72         4           8   \n",
       "4999  ...  2025-01-15       In-store             194         1           6   \n",
       "\n",
       "      Warehouse Location  Expiration Date Discounts Applied Inventory Aging  \\\n",
       "4995                 WH1              NaN                26              16   \n",
       "4996                 WH1       2022-06-07                13              44   \n",
       "4997                 WH3       2021-09-10                 3              45   \n",
       "4998                 WH2              NaN                 7              56   \n",
       "4999                 WH2              NaN                15              70   \n",
       "\n",
       "      Return Rate  \n",
       "4995         1.60  \n",
       "4996         2.61  \n",
       "4997         0.47  \n",
       "4998         3.99  \n",
       "4999         3.01  \n",
       "\n",
       "[5 rows x 22 columns]"
      ]
     },
     "execution_count": 12,
     "metadata": {},
     "output_type": "execute_result"
    }
   ],
   "source": [
    "df.tail()"
   ]
  },
  {
   "cell_type": "code",
   "execution_count": 17,
   "metadata": {},
   "outputs": [
    {
     "data": {
      "text/plain": [
       "Expiration Date\n",
       "2022-06-26    4\n",
       "2021-08-16    4\n",
       "2024-06-22    3\n",
       "2021-07-27    3\n",
       "2025-02-07    3\n",
       "             ..\n",
       "2024-11-27    1\n",
       "2020-04-02    1\n",
       "2021-12-06    1\n",
       "2024-02-11    1\n",
       "2022-06-07    1\n",
       "Name: count, Length: 704, dtype: int64"
      ]
     },
     "execution_count": 17,
     "metadata": {},
     "output_type": "execute_result"
    }
   ],
   "source": [
    "df['Expiration Date'].value_counts()"
   ]
  },
  {
   "cell_type": "code",
   "execution_count": null,
   "metadata": {},
   "outputs": [],
   "source": [
    "df"
   ]
  },
  {
   "cell_type": "code",
   "execution_count": 19,
   "metadata": {},
   "outputs": [
    {
     "name": "stdout",
     "output_type": "stream",
     "text": [
      "<class 'pandas.core.frame.DataFrame'>\n",
      "RangeIndex: 18360 entries, 0 to 18359\n",
      "Data columns (total 6 columns):\n",
      " #   Column       Non-Null Count  Dtype  \n",
      "---  ------       --------------  -----  \n",
      " 0   Dealer_ID    18360 non-null  object \n",
      " 1   Product_ID   18360 non-null  object \n",
      " 2   Date         18360 non-null  object \n",
      " 3   Quantity     18268 non-null  float64\n",
      " 4   Consumption  18268 non-null  float64\n",
      " 5   Location     18176 non-null  object \n",
      "dtypes: float64(2), object(4)\n",
      "memory usage: 860.8+ KB\n"
     ]
    }
   ],
   "source": [
    "df1 = pd.read_csv('inventory_data_noisy.csv')\n",
    "df1.info()"
   ]
  },
  {
   "cell_type": "code",
   "execution_count": 35,
   "metadata": {},
   "outputs": [
    {
     "data": {
      "text/html": [
       "<div>\n",
       "<style scoped>\n",
       "    .dataframe tbody tr th:only-of-type {\n",
       "        vertical-align: middle;\n",
       "    }\n",
       "\n",
       "    .dataframe tbody tr th {\n",
       "        vertical-align: top;\n",
       "    }\n",
       "\n",
       "    .dataframe thead th {\n",
       "        text-align: right;\n",
       "    }\n",
       "</style>\n",
       "<table border=\"1\" class=\"dataframe\">\n",
       "  <thead>\n",
       "    <tr style=\"text-align: right;\">\n",
       "      <th></th>\n",
       "      <th>Dealer_ID</th>\n",
       "      <th>Product_ID</th>\n",
       "      <th>Date</th>\n",
       "      <th>Quantity</th>\n",
       "      <th>Consumption</th>\n",
       "      <th>Location</th>\n",
       "    </tr>\n",
       "  </thead>\n",
       "  <tbody>\n",
       "    <tr>\n",
       "      <th>0</th>\n",
       "      <td>D000</td>\n",
       "      <td>P000</td>\n",
       "      <td>2022-01-01</td>\n",
       "      <td>62.0</td>\n",
       "      <td>8.0</td>\n",
       "      <td>Chicago</td>\n",
       "    </tr>\n",
       "    <tr>\n",
       "      <th>1</th>\n",
       "      <td>D000</td>\n",
       "      <td>P000</td>\n",
       "      <td>2022-01-02</td>\n",
       "      <td>70.0</td>\n",
       "      <td>9.0</td>\n",
       "      <td>Chicago</td>\n",
       "    </tr>\n",
       "    <tr>\n",
       "      <th>2</th>\n",
       "      <td>D000</td>\n",
       "      <td>P000</td>\n",
       "      <td>2022-01-03</td>\n",
       "      <td>12.0</td>\n",
       "      <td>17.0</td>\n",
       "      <td>Los Angeles</td>\n",
       "    </tr>\n",
       "    <tr>\n",
       "      <th>3</th>\n",
       "      <td>D000</td>\n",
       "      <td>P000</td>\n",
       "      <td>2022-01-04</td>\n",
       "      <td>74.0</td>\n",
       "      <td>13.0</td>\n",
       "      <td>Los Angeles</td>\n",
       "    </tr>\n",
       "    <tr>\n",
       "      <th>4</th>\n",
       "      <td>D000</td>\n",
       "      <td>P000</td>\n",
       "      <td>2022-01-05</td>\n",
       "      <td>57.0</td>\n",
       "      <td>10.0</td>\n",
       "      <td>Los Angeles</td>\n",
       "    </tr>\n",
       "  </tbody>\n",
       "</table>\n",
       "</div>"
      ],
      "text/plain": [
       "  Dealer_ID Product_ID        Date  Quantity  Consumption     Location\n",
       "0      D000       P000  2022-01-01      62.0          8.0      Chicago\n",
       "1      D000       P000  2022-01-02      70.0          9.0      Chicago\n",
       "2      D000       P000  2022-01-03      12.0         17.0  Los Angeles\n",
       "3      D000       P000  2022-01-04      74.0         13.0  Los Angeles\n",
       "4      D000       P000  2022-01-05      57.0         10.0  Los Angeles"
      ]
     },
     "execution_count": 35,
     "metadata": {},
     "output_type": "execute_result"
    }
   ],
   "source": [
    "df1.head()"
   ]
  },
  {
   "cell_type": "code",
   "execution_count": 20,
   "metadata": {},
   "outputs": [
    {
     "data": {
      "text/plain": [
       "Dealer_ID        0\n",
       "Product_ID       0\n",
       "Date             0\n",
       "Quantity        92\n",
       "Consumption     92\n",
       "Location       184\n",
       "dtype: int64"
      ]
     },
     "execution_count": 20,
     "metadata": {},
     "output_type": "execute_result"
    }
   ],
   "source": [
    "df1.isna().sum()"
   ]
  },
  {
   "cell_type": "code",
   "execution_count": 31,
   "metadata": {},
   "outputs": [
    {
     "data": {
      "text/html": [
       "<div>\n",
       "<style scoped>\n",
       "    .dataframe tbody tr th:only-of-type {\n",
       "        vertical-align: middle;\n",
       "    }\n",
       "\n",
       "    .dataframe tbody tr th {\n",
       "        vertical-align: top;\n",
       "    }\n",
       "\n",
       "    .dataframe thead th {\n",
       "        text-align: right;\n",
       "    }\n",
       "</style>\n",
       "<table border=\"1\" class=\"dataframe\">\n",
       "  <thead>\n",
       "    <tr style=\"text-align: right;\">\n",
       "      <th></th>\n",
       "      <th>Quantity</th>\n",
       "      <th>Consumption</th>\n",
       "    </tr>\n",
       "  </thead>\n",
       "  <tbody>\n",
       "    <tr>\n",
       "      <th>count</th>\n",
       "      <td>18268.000000</td>\n",
       "      <td>18268.000000</td>\n",
       "    </tr>\n",
       "    <tr>\n",
       "      <th>mean</th>\n",
       "      <td>59.105704</td>\n",
       "      <td>12.938526</td>\n",
       "    </tr>\n",
       "    <tr>\n",
       "      <th>std</th>\n",
       "      <td>71.085667</td>\n",
       "      <td>13.313527</td>\n",
       "    </tr>\n",
       "    <tr>\n",
       "      <th>min</th>\n",
       "      <td>10.000000</td>\n",
       "      <td>5.000000</td>\n",
       "    </tr>\n",
       "    <tr>\n",
       "      <th>25%</th>\n",
       "      <td>32.000000</td>\n",
       "      <td>8.000000</td>\n",
       "    </tr>\n",
       "    <tr>\n",
       "      <th>50%</th>\n",
       "      <td>54.000000</td>\n",
       "      <td>12.000000</td>\n",
       "    </tr>\n",
       "    <tr>\n",
       "      <th>75%</th>\n",
       "      <td>77.000000</td>\n",
       "      <td>16.000000</td>\n",
       "    </tr>\n",
       "    <tr>\n",
       "      <th>max</th>\n",
       "      <td>990.000000</td>\n",
       "      <td>190.000000</td>\n",
       "    </tr>\n",
       "  </tbody>\n",
       "</table>\n",
       "</div>"
      ],
      "text/plain": [
       "           Quantity   Consumption\n",
       "count  18268.000000  18268.000000\n",
       "mean      59.105704     12.938526\n",
       "std       71.085667     13.313527\n",
       "min       10.000000      5.000000\n",
       "25%       32.000000      8.000000\n",
       "50%       54.000000     12.000000\n",
       "75%       77.000000     16.000000\n",
       "max      990.000000    190.000000"
      ]
     },
     "execution_count": 31,
     "metadata": {},
     "output_type": "execute_result"
    }
   ],
   "source": [
    "df1.describe()"
   ]
  },
  {
   "cell_type": "code",
   "execution_count": 34,
   "metadata": {},
   "outputs": [
    {
     "data": {
      "text/plain": [
       "np.int64(349)"
      ]
     },
     "execution_count": 34,
     "metadata": {},
     "output_type": "execute_result"
    }
   ],
   "source": [
    "df1.duplicated().sum()"
   ]
  },
  {
   "cell_type": "code",
   "execution_count": 39,
   "metadata": {},
   "outputs": [],
   "source": [
    "df1.drop_duplicates(inplace=True)"
   ]
  },
  {
   "cell_type": "code",
   "execution_count": 40,
   "metadata": {},
   "outputs": [
    {
     "data": {
      "text/plain": [
       "np.int64(0)"
      ]
     },
     "execution_count": 40,
     "metadata": {},
     "output_type": "execute_result"
    }
   ],
   "source": [
    "df1.duplicated().sum()"
   ]
  },
  {
   "cell_type": "code",
   "execution_count": 42,
   "metadata": {},
   "outputs": [
    {
     "name": "stdout",
     "output_type": "stream",
     "text": [
      "<class 'pandas.core.frame.DataFrame'>\n",
      "Index: 18011 entries, 0 to 18343\n",
      "Data columns (total 6 columns):\n",
      " #   Column       Non-Null Count  Dtype  \n",
      "---  ------       --------------  -----  \n",
      " 0   Dealer_ID    18011 non-null  object \n",
      " 1   Product_ID   18011 non-null  object \n",
      " 2   Date         18011 non-null  object \n",
      " 3   Quantity     17919 non-null  float64\n",
      " 4   Consumption  17919 non-null  float64\n",
      " 5   Location     17827 non-null  object \n",
      "dtypes: float64(2), object(4)\n",
      "memory usage: 985.0+ KB\n"
     ]
    }
   ],
   "source": [
    "df1.info()"
   ]
  },
  {
   "cell_type": "code",
   "execution_count": 49,
   "metadata": {},
   "outputs": [
    {
     "name": "stderr",
     "output_type": "stream",
     "text": [
      "C:\\Users\\CVR\\AppData\\Local\\Temp\\ipykernel_3836\\572179636.py:1: FutureWarning: A value is trying to be set on a copy of a DataFrame or Series through chained assignment using an inplace method.\n",
      "The behavior will change in pandas 3.0. This inplace method will never work because the intermediate object on which we are setting values always behaves as a copy.\n",
      "\n",
      "For example, when doing 'df[col].method(value, inplace=True)', try using 'df.method({col: value}, inplace=True)' or df[col] = df[col].method(value) instead, to perform the operation inplace on the original object.\n",
      "\n",
      "\n",
      "  df1['Quantity'].fillna(df1['Quantity'].median(),inplace=True)\n"
     ]
    }
   ],
   "source": [
    "df1['Quantity'].fillna(df1['Quantity'].median(),inplace=True)"
   ]
  },
  {
   "cell_type": "code",
   "execution_count": 56,
   "metadata": {},
   "outputs": [
    {
     "name": "stderr",
     "output_type": "stream",
     "text": [
      "C:\\Users\\CVR\\AppData\\Local\\Temp\\ipykernel_3836\\3109516370.py:1: FutureWarning: A value is trying to be set on a copy of a DataFrame or Series through chained assignment using an inplace method.\n",
      "The behavior will change in pandas 3.0. This inplace method will never work because the intermediate object on which we are setting values always behaves as a copy.\n",
      "\n",
      "For example, when doing 'df[col].method(value, inplace=True)', try using 'df.method({col: value}, inplace=True)' or df[col] = df[col].method(value) instead, to perform the operation inplace on the original object.\n",
      "\n",
      "\n",
      "  df1['Consumption'].fillna(df1['Consumption'].mode(),inplace=True)\n"
     ]
    }
   ],
   "source": [
    "df1['Consumption'].fillna(df1['Consumption'].mode(),inplace=True)"
   ]
  },
  {
   "cell_type": "code",
   "execution_count": 52,
   "metadata": {},
   "outputs": [
    {
     "data": {
      "text/plain": [
       "Dealer_ID        0\n",
       "Product_ID       0\n",
       "Date             0\n",
       "Quantity         0\n",
       "Consumption      0\n",
       "Location       184\n",
       "dtype: int64"
      ]
     },
     "execution_count": 52,
     "metadata": {},
     "output_type": "execute_result"
    }
   ],
   "source": [
    "df1.isnull().sum()"
   ]
  },
  {
   "cell_type": "code",
   "execution_count": 53,
   "metadata": {},
   "outputs": [
    {
     "name": "stdout",
     "output_type": "stream",
     "text": [
      "<class 'pandas.core.frame.DataFrame'>\n",
      "Index: 18011 entries, 0 to 18343\n",
      "Data columns (total 6 columns):\n",
      " #   Column       Non-Null Count  Dtype  \n",
      "---  ------       --------------  -----  \n",
      " 0   Dealer_ID    18011 non-null  object \n",
      " 1   Product_ID   18011 non-null  object \n",
      " 2   Date         18011 non-null  object \n",
      " 3   Quantity     18011 non-null  float64\n",
      " 4   Consumption  18011 non-null  float64\n",
      " 5   Location     17827 non-null  object \n",
      "dtypes: float64(2), object(4)\n",
      "memory usage: 985.0+ KB\n"
     ]
    }
   ],
   "source": [
    "df1.info()"
   ]
  },
  {
   "cell_type": "code",
   "execution_count": 54,
   "metadata": {},
   "outputs": [],
   "source": [
    "df2 = pd.read_csv('inventory_data_cleaned.csv')\n"
   ]
  },
  {
   "cell_type": "code",
   "execution_count": 55,
   "metadata": {},
   "outputs": [
    {
     "name": "stdout",
     "output_type": "stream",
     "text": [
      "<class 'pandas.core.frame.DataFrame'>\n",
      "RangeIndex: 18176 entries, 0 to 18175\n",
      "Data columns (total 6 columns):\n",
      " #   Column       Non-Null Count  Dtype  \n",
      "---  ------       --------------  -----  \n",
      " 0   Dealer_ID    18176 non-null  object \n",
      " 1   Product_ID   18176 non-null  object \n",
      " 2   Date         18176 non-null  object \n",
      " 3   Quantity     18176 non-null  float64\n",
      " 4   Consumption  18176 non-null  float64\n",
      " 5   Location     18176 non-null  object \n",
      "dtypes: float64(2), object(4)\n",
      "memory usage: 852.1+ KB\n"
     ]
    }
   ],
   "source": [
    "df2.info()"
   ]
  },
  {
   "cell_type": "code",
   "execution_count": 57,
   "metadata": {},
   "outputs": [
    {
     "data": {
      "text/plain": [
       "np.int64(349)"
      ]
     },
     "execution_count": 57,
     "metadata": {},
     "output_type": "execute_result"
    }
   ],
   "source": [
    "df2.duplicated().sum()"
   ]
  },
  {
   "cell_type": "code",
   "execution_count": null,
   "metadata": {},
   "outputs": [],
   "source": []
  }
 ],
 "metadata": {
  "kernelspec": {
   "display_name": "Python 3",
   "language": "python",
   "name": "python3"
  },
  "language_info": {
   "codemirror_mode": {
    "name": "ipython",
    "version": 3
   },
   "file_extension": ".py",
   "mimetype": "text/x-python",
   "name": "python",
   "nbconvert_exporter": "python",
   "pygments_lexer": "ipython3",
   "version": "3.10.0"
  }
 },
 "nbformat": 4,
 "nbformat_minor": 2
}
